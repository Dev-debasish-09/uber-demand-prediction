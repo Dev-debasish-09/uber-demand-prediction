{
 "cells": [
  {
   "cell_type": "code",
   "execution_count": 1,
   "id": "eda88790-43d3-4518-b713-4e01c88a9a81",
   "metadata": {},
   "outputs": [],
   "source": [
    "# !pip install dask"
   ]
  },
  {
   "cell_type": "code",
   "execution_count": 2,
   "id": "a970fd6d-8648-4ca1-b9d3-efbfb89189e8",
   "metadata": {},
   "outputs": [],
   "source": [
    "# !pip install graphviz"
   ]
  },
  {
   "cell_type": "code",
   "execution_count": 3,
   "id": "b52bde55-b559-4609-ba0f-63fb7c8e5203",
   "metadata": {},
   "outputs": [],
   "source": [
    "import numpy as np\n",
    "import pandas as pd\n",
    "import dask.dataframe as dd\n",
    "import matplotlib.pyplot as plt\n",
    "import seaborn as sns "
   ]
  },
  {
   "cell_type": "code",
   "execution_count": 4,
   "id": "5368f1db-31b6-405e-8512-634d6e1ce5e6",
   "metadata": {},
   "outputs": [
    {
     "data": {
      "text/plain": [
       "'C:\\\\Users\\\\debas\\\\Uber demand Prediction'"
      ]
     },
     "execution_count": 4,
     "metadata": {},
     "output_type": "execute_result"
    }
   ],
   "source": [
    "pwd"
   ]
  },
  {
   "cell_type": "code",
   "execution_count": 5,
   "id": "ade202cc-a760-4c43-acad-b29cea310e98",
   "metadata": {},
   "outputs": [],
   "source": [
    "# file uploaded\n",
    "df_jan_path = \"C:\\\\Users\\\\debas\\\\Uber demand Prediction/Data/yellow_tripdata_2016-01.csv\"\n",
    "df_feb_path = \"C:\\\\Users\\\\debas\\\\Uber demand Prediction/Data/yellow_tripdata_2016-02.csv\"\n",
    "df_mar_path = \"C:\\\\Users\\\\debas\\\\Uber demand Prediction/Data/yellow_tripdata_2016-03.csv\""
   ]
  },
  {
   "cell_type": "code",
   "execution_count": 6,
   "id": "1bab0ef7-799c-47d8-99d4-91a2cbaedffc",
   "metadata": {},
   "outputs": [],
   "source": [
    "# update Data Frame \n",
    "df_jan = dd.read_csv(df_jan_path,assume_missing = True)\n",
    "df_feb = dd.read_csv(df_feb_path,assume_missing = True)\n",
    "df_mar = dd.read_csv(df_mar_path,assume_missing = True)"
   ]
  },
  {
   "cell_type": "code",
   "execution_count": 7,
   "id": "1262f236-a755-43b0-9514-d086258b6b44",
   "metadata": {},
   "outputs": [
    {
     "data": {
      "text/html": [
       "<div>\n",
       "<style scoped>\n",
       "    .dataframe tbody tr th:only-of-type {\n",
       "        vertical-align: middle;\n",
       "    }\n",
       "\n",
       "    .dataframe tbody tr th {\n",
       "        vertical-align: top;\n",
       "    }\n",
       "\n",
       "    .dataframe thead th {\n",
       "        text-align: right;\n",
       "    }\n",
       "</style>\n",
       "<table border=\"1\" class=\"dataframe\">\n",
       "  <thead>\n",
       "    <tr style=\"text-align: right;\">\n",
       "      <th></th>\n",
       "      <th>VendorID</th>\n",
       "      <th>tpep_pickup_datetime</th>\n",
       "      <th>tpep_dropoff_datetime</th>\n",
       "      <th>passenger_count</th>\n",
       "      <th>trip_distance</th>\n",
       "      <th>pickup_longitude</th>\n",
       "      <th>pickup_latitude</th>\n",
       "      <th>RatecodeID</th>\n",
       "      <th>store_and_fwd_flag</th>\n",
       "      <th>dropoff_longitude</th>\n",
       "      <th>dropoff_latitude</th>\n",
       "      <th>payment_type</th>\n",
       "      <th>fare_amount</th>\n",
       "      <th>extra</th>\n",
       "      <th>mta_tax</th>\n",
       "      <th>tip_amount</th>\n",
       "      <th>tolls_amount</th>\n",
       "      <th>improvement_surcharge</th>\n",
       "      <th>total_amount</th>\n",
       "    </tr>\n",
       "  </thead>\n",
       "  <tbody>\n",
       "    <tr>\n",
       "      <th>0</th>\n",
       "      <td>2.0</td>\n",
       "      <td>2016-01-01 00:00:00</td>\n",
       "      <td>2016-01-01 00:00:00</td>\n",
       "      <td>2.0</td>\n",
       "      <td>1.10</td>\n",
       "      <td>-73.990372</td>\n",
       "      <td>40.734695</td>\n",
       "      <td>1.0</td>\n",
       "      <td>N</td>\n",
       "      <td>-73.981842</td>\n",
       "      <td>40.732407</td>\n",
       "      <td>2.0</td>\n",
       "      <td>7.5</td>\n",
       "      <td>0.5</td>\n",
       "      <td>0.5</td>\n",
       "      <td>0.0</td>\n",
       "      <td>0.0</td>\n",
       "      <td>0.3</td>\n",
       "      <td>8.8</td>\n",
       "    </tr>\n",
       "    <tr>\n",
       "      <th>1</th>\n",
       "      <td>2.0</td>\n",
       "      <td>2016-01-01 00:00:00</td>\n",
       "      <td>2016-01-01 00:00:00</td>\n",
       "      <td>5.0</td>\n",
       "      <td>4.90</td>\n",
       "      <td>-73.980782</td>\n",
       "      <td>40.729912</td>\n",
       "      <td>1.0</td>\n",
       "      <td>N</td>\n",
       "      <td>-73.944473</td>\n",
       "      <td>40.716679</td>\n",
       "      <td>1.0</td>\n",
       "      <td>18.0</td>\n",
       "      <td>0.5</td>\n",
       "      <td>0.5</td>\n",
       "      <td>0.0</td>\n",
       "      <td>0.0</td>\n",
       "      <td>0.3</td>\n",
       "      <td>19.3</td>\n",
       "    </tr>\n",
       "    <tr>\n",
       "      <th>2</th>\n",
       "      <td>2.0</td>\n",
       "      <td>2016-01-01 00:00:00</td>\n",
       "      <td>2016-01-01 00:00:00</td>\n",
       "      <td>1.0</td>\n",
       "      <td>10.54</td>\n",
       "      <td>-73.984550</td>\n",
       "      <td>40.679565</td>\n",
       "      <td>1.0</td>\n",
       "      <td>N</td>\n",
       "      <td>-73.950272</td>\n",
       "      <td>40.788925</td>\n",
       "      <td>1.0</td>\n",
       "      <td>33.0</td>\n",
       "      <td>0.5</td>\n",
       "      <td>0.5</td>\n",
       "      <td>0.0</td>\n",
       "      <td>0.0</td>\n",
       "      <td>0.3</td>\n",
       "      <td>34.3</td>\n",
       "    </tr>\n",
       "    <tr>\n",
       "      <th>3</th>\n",
       "      <td>2.0</td>\n",
       "      <td>2016-01-01 00:00:00</td>\n",
       "      <td>2016-01-01 00:00:00</td>\n",
       "      <td>1.0</td>\n",
       "      <td>4.75</td>\n",
       "      <td>-73.993469</td>\n",
       "      <td>40.718990</td>\n",
       "      <td>1.0</td>\n",
       "      <td>N</td>\n",
       "      <td>-73.962242</td>\n",
       "      <td>40.657333</td>\n",
       "      <td>2.0</td>\n",
       "      <td>16.5</td>\n",
       "      <td>0.0</td>\n",
       "      <td>0.5</td>\n",
       "      <td>0.0</td>\n",
       "      <td>0.0</td>\n",
       "      <td>0.3</td>\n",
       "      <td>17.3</td>\n",
       "    </tr>\n",
       "    <tr>\n",
       "      <th>4</th>\n",
       "      <td>2.0</td>\n",
       "      <td>2016-01-01 00:00:00</td>\n",
       "      <td>2016-01-01 00:00:00</td>\n",
       "      <td>3.0</td>\n",
       "      <td>1.76</td>\n",
       "      <td>-73.960625</td>\n",
       "      <td>40.781330</td>\n",
       "      <td>1.0</td>\n",
       "      <td>N</td>\n",
       "      <td>-73.977264</td>\n",
       "      <td>40.758514</td>\n",
       "      <td>2.0</td>\n",
       "      <td>8.0</td>\n",
       "      <td>0.0</td>\n",
       "      <td>0.5</td>\n",
       "      <td>0.0</td>\n",
       "      <td>0.0</td>\n",
       "      <td>0.3</td>\n",
       "      <td>8.8</td>\n",
       "    </tr>\n",
       "  </tbody>\n",
       "</table>\n",
       "</div>"
      ],
      "text/plain": [
       "   VendorID tpep_pickup_datetime tpep_dropoff_datetime  passenger_count  \\\n",
       "0       2.0  2016-01-01 00:00:00   2016-01-01 00:00:00              2.0   \n",
       "1       2.0  2016-01-01 00:00:00   2016-01-01 00:00:00              5.0   \n",
       "2       2.0  2016-01-01 00:00:00   2016-01-01 00:00:00              1.0   \n",
       "3       2.0  2016-01-01 00:00:00   2016-01-01 00:00:00              1.0   \n",
       "4       2.0  2016-01-01 00:00:00   2016-01-01 00:00:00              3.0   \n",
       "\n",
       "   trip_distance  pickup_longitude  pickup_latitude  RatecodeID  \\\n",
       "0           1.10        -73.990372        40.734695         1.0   \n",
       "1           4.90        -73.980782        40.729912         1.0   \n",
       "2          10.54        -73.984550        40.679565         1.0   \n",
       "3           4.75        -73.993469        40.718990         1.0   \n",
       "4           1.76        -73.960625        40.781330         1.0   \n",
       "\n",
       "  store_and_fwd_flag  dropoff_longitude  dropoff_latitude  payment_type  \\\n",
       "0                  N         -73.981842         40.732407           2.0   \n",
       "1                  N         -73.944473         40.716679           1.0   \n",
       "2                  N         -73.950272         40.788925           1.0   \n",
       "3                  N         -73.962242         40.657333           2.0   \n",
       "4                  N         -73.977264         40.758514           2.0   \n",
       "\n",
       "   fare_amount  extra  mta_tax  tip_amount  tolls_amount  \\\n",
       "0          7.5    0.5      0.5         0.0           0.0   \n",
       "1         18.0    0.5      0.5         0.0           0.0   \n",
       "2         33.0    0.5      0.5         0.0           0.0   \n",
       "3         16.5    0.0      0.5         0.0           0.0   \n",
       "4          8.0    0.0      0.5         0.0           0.0   \n",
       "\n",
       "   improvement_surcharge  total_amount  \n",
       "0                    0.3           8.8  \n",
       "1                    0.3          19.3  \n",
       "2                    0.3          34.3  \n",
       "3                    0.3          17.3  \n",
       "4                    0.3           8.8  "
      ]
     },
     "execution_count": 7,
     "metadata": {},
     "output_type": "execute_result"
    }
   ],
   "source": [
    "# The jan Data frame \n",
    "df_jan.head(5)"
   ]
  },
  {
   "cell_type": "code",
   "execution_count": 8,
   "id": "c749df94-9dc2-4a26-b635-bffec148951d",
   "metadata": {},
   "outputs": [
    {
     "name": "stdout",
     "output_type": "stream",
     "text": [
      "shape of january datasets (<dask_expr.expr.Scalar: expr=ArrowStringConversion(frame=FromMapProjectable(b107b31)).size() // 19, dtype=int32>, 19)\n",
      "shape of feb datasets (<dask_expr.expr.Scalar: expr=ArrowStringConversion(frame=FromMapProjectable(7359bb5)).size() // 19, dtype=int32>, 19)\n",
      "shape of mar datasets (<dask_expr.expr.Scalar: expr=ArrowStringConversion(frame=FromMapProjectable(12d88c6)).size() // 19, dtype=int32>, 19)\n"
     ]
    }
   ],
   "source": [
    "# shape of all the three datasets\n",
    "print(\"shape of january datasets\",df_jan.shape)\n",
    "print(\"shape of feb datasets\",df_feb.shape)\n",
    "print(\"shape of mar datasets\",df_mar.shape)"
   ]
  },
  {
   "cell_type": "code",
   "execution_count": 9,
   "id": "53ea28ae-7f1d-49b2-a579-c85708cd69d2",
   "metadata": {},
   "outputs": [],
   "source": [
    "# concat the three dataframes as one \n",
    "df_final = dd.concat([df_jan,df_feb,df_mar],axis = 0).drop(columns = ['extra','mta_tax','tip_amount','tolls_amount',\n",
    "                                                                      'improvement_surcharge','total_amount','payment_type'])"
   ]
  },
  {
   "cell_type": "code",
   "execution_count": 10,
   "id": "c5179f85-dbec-40c6-b042-00b67d689255",
   "metadata": {},
   "outputs": [
    {
     "data": {
      "text/html": [
       "<div>\n",
       "<style scoped>\n",
       "    .dataframe tbody tr th:only-of-type {\n",
       "        vertical-align: middle;\n",
       "    }\n",
       "\n",
       "    .dataframe tbody tr th {\n",
       "        vertical-align: top;\n",
       "    }\n",
       "\n",
       "    .dataframe thead th {\n",
       "        text-align: right;\n",
       "    }\n",
       "</style>\n",
       "<table border=\"1\" class=\"dataframe\">\n",
       "  <thead>\n",
       "    <tr style=\"text-align: right;\">\n",
       "      <th></th>\n",
       "      <th>VendorID</th>\n",
       "      <th>tpep_pickup_datetime</th>\n",
       "      <th>tpep_dropoff_datetime</th>\n",
       "      <th>passenger_count</th>\n",
       "      <th>trip_distance</th>\n",
       "      <th>pickup_longitude</th>\n",
       "      <th>pickup_latitude</th>\n",
       "      <th>RatecodeID</th>\n",
       "      <th>store_and_fwd_flag</th>\n",
       "      <th>dropoff_longitude</th>\n",
       "      <th>dropoff_latitude</th>\n",
       "      <th>fare_amount</th>\n",
       "    </tr>\n",
       "  </thead>\n",
       "  <tbody>\n",
       "    <tr>\n",
       "      <th>0</th>\n",
       "      <td>2.0</td>\n",
       "      <td>2016-01-01 00:00:00</td>\n",
       "      <td>2016-01-01 00:00:00</td>\n",
       "      <td>2.0</td>\n",
       "      <td>1.10</td>\n",
       "      <td>-73.990372</td>\n",
       "      <td>40.734695</td>\n",
       "      <td>1.0</td>\n",
       "      <td>N</td>\n",
       "      <td>-73.981842</td>\n",
       "      <td>40.732407</td>\n",
       "      <td>7.5</td>\n",
       "    </tr>\n",
       "    <tr>\n",
       "      <th>1</th>\n",
       "      <td>2.0</td>\n",
       "      <td>2016-01-01 00:00:00</td>\n",
       "      <td>2016-01-01 00:00:00</td>\n",
       "      <td>5.0</td>\n",
       "      <td>4.90</td>\n",
       "      <td>-73.980782</td>\n",
       "      <td>40.729912</td>\n",
       "      <td>1.0</td>\n",
       "      <td>N</td>\n",
       "      <td>-73.944473</td>\n",
       "      <td>40.716679</td>\n",
       "      <td>18.0</td>\n",
       "    </tr>\n",
       "    <tr>\n",
       "      <th>2</th>\n",
       "      <td>2.0</td>\n",
       "      <td>2016-01-01 00:00:00</td>\n",
       "      <td>2016-01-01 00:00:00</td>\n",
       "      <td>1.0</td>\n",
       "      <td>10.54</td>\n",
       "      <td>-73.984550</td>\n",
       "      <td>40.679565</td>\n",
       "      <td>1.0</td>\n",
       "      <td>N</td>\n",
       "      <td>-73.950272</td>\n",
       "      <td>40.788925</td>\n",
       "      <td>33.0</td>\n",
       "    </tr>\n",
       "    <tr>\n",
       "      <th>3</th>\n",
       "      <td>2.0</td>\n",
       "      <td>2016-01-01 00:00:00</td>\n",
       "      <td>2016-01-01 00:00:00</td>\n",
       "      <td>1.0</td>\n",
       "      <td>4.75</td>\n",
       "      <td>-73.993469</td>\n",
       "      <td>40.718990</td>\n",
       "      <td>1.0</td>\n",
       "      <td>N</td>\n",
       "      <td>-73.962242</td>\n",
       "      <td>40.657333</td>\n",
       "      <td>16.5</td>\n",
       "    </tr>\n",
       "    <tr>\n",
       "      <th>4</th>\n",
       "      <td>2.0</td>\n",
       "      <td>2016-01-01 00:00:00</td>\n",
       "      <td>2016-01-01 00:00:00</td>\n",
       "      <td>3.0</td>\n",
       "      <td>1.76</td>\n",
       "      <td>-73.960625</td>\n",
       "      <td>40.781330</td>\n",
       "      <td>1.0</td>\n",
       "      <td>N</td>\n",
       "      <td>-73.977264</td>\n",
       "      <td>40.758514</td>\n",
       "      <td>8.0</td>\n",
       "    </tr>\n",
       "  </tbody>\n",
       "</table>\n",
       "</div>"
      ],
      "text/plain": [
       "   VendorID tpep_pickup_datetime tpep_dropoff_datetime  passenger_count  \\\n",
       "0       2.0  2016-01-01 00:00:00   2016-01-01 00:00:00              2.0   \n",
       "1       2.0  2016-01-01 00:00:00   2016-01-01 00:00:00              5.0   \n",
       "2       2.0  2016-01-01 00:00:00   2016-01-01 00:00:00              1.0   \n",
       "3       2.0  2016-01-01 00:00:00   2016-01-01 00:00:00              1.0   \n",
       "4       2.0  2016-01-01 00:00:00   2016-01-01 00:00:00              3.0   \n",
       "\n",
       "   trip_distance  pickup_longitude  pickup_latitude  RatecodeID  \\\n",
       "0           1.10        -73.990372        40.734695         1.0   \n",
       "1           4.90        -73.980782        40.729912         1.0   \n",
       "2          10.54        -73.984550        40.679565         1.0   \n",
       "3           4.75        -73.993469        40.718990         1.0   \n",
       "4           1.76        -73.960625        40.781330         1.0   \n",
       "\n",
       "  store_and_fwd_flag  dropoff_longitude  dropoff_latitude  fare_amount  \n",
       "0                  N         -73.981842         40.732407          7.5  \n",
       "1                  N         -73.944473         40.716679         18.0  \n",
       "2                  N         -73.950272         40.788925         33.0  \n",
       "3                  N         -73.962242         40.657333         16.5  \n",
       "4                  N         -73.977264         40.758514          8.0  "
      ]
     },
     "execution_count": 10,
     "metadata": {},
     "output_type": "execute_result"
    }
   ],
   "source": [
    "df_final.head()"
   ]
  },
  {
   "cell_type": "code",
   "execution_count": 11,
   "id": "ae0282f8-9413-46f2-ab8c-dd0ae70c4721",
   "metadata": {},
   "outputs": [
    {
     "data": {
      "text/plain": [
       "Index(['VendorID', 'tpep_pickup_datetime', 'tpep_dropoff_datetime',\n",
       "       'passenger_count', 'trip_distance', 'pickup_longitude',\n",
       "       'pickup_latitude', 'RatecodeID', 'store_and_fwd_flag',\n",
       "       'dropoff_longitude', 'dropoff_latitude', 'fare_amount'],\n",
       "      dtype='object')"
      ]
     },
     "execution_count": 11,
     "metadata": {},
     "output_type": "execute_result"
    }
   ],
   "source": [
    "df_final.columns"
   ]
  },
  {
   "cell_type": "code",
   "execution_count": 12,
   "id": "05f1ac0f-0f9b-43ca-9a05-9588a3df548c",
   "metadata": {},
   "outputs": [
    {
     "data": {
      "text/plain": [
       "VendorID                 0\n",
       "tpep_pickup_datetime     0\n",
       "tpep_dropoff_datetime    0\n",
       "passenger_count          0\n",
       "trip_distance            0\n",
       "pickup_longitude         0\n",
       "pickup_latitude          0\n",
       "RatecodeID               0\n",
       "store_and_fwd_flag       0\n",
       "dropoff_longitude        0\n",
       "dropoff_latitude         0\n",
       "fare_amount              0\n",
       "dtype: int64"
      ]
     },
     "execution_count": 12,
     "metadata": {},
     "output_type": "execute_result"
    }
   ],
   "source": [
    "df_final.isna().sum().compute()"
   ]
  },
  {
   "cell_type": "code",
   "execution_count": 13,
   "id": "10236648-2cb7-42cf-b450-ebc84ead66ab",
   "metadata": {},
   "outputs": [
    {
     "data": {
      "text/plain": [
       "VendorID                         float64\n",
       "tpep_pickup_datetime     string[pyarrow]\n",
       "tpep_dropoff_datetime    string[pyarrow]\n",
       "passenger_count                  float64\n",
       "trip_distance                    float64\n",
       "pickup_longitude                 float64\n",
       "pickup_latitude                  float64\n",
       "RatecodeID                       float64\n",
       "store_and_fwd_flag       string[pyarrow]\n",
       "dropoff_longitude                float64\n",
       "dropoff_latitude                 float64\n",
       "fare_amount                      float64\n",
       "dtype: object"
      ]
     },
     "execution_count": 13,
     "metadata": {},
     "output_type": "execute_result"
    }
   ],
   "source": [
    "df_final.dtypes"
   ]
  },
  {
   "cell_type": "code",
   "execution_count": 14,
   "id": "801b3e48-686a-473e-9681-ad3644b24230",
   "metadata": {},
   "outputs": [],
   "source": [
    "# Analysis\n",
    "\n",
    "sns.set_style(\"whitegrid\")"
   ]
  },
  {
   "cell_type": "code",
   "execution_count": 15,
   "id": "0bd306ba-abae-403a-9fb7-323872e1558b",
   "metadata": {},
   "outputs": [
    {
     "data": {
      "text/html": [
       "<div>\n",
       "<style scoped>\n",
       "    .dataframe tbody tr th:only-of-type {\n",
       "        vertical-align: middle;\n",
       "    }\n",
       "\n",
       "    .dataframe tbody tr th {\n",
       "        vertical-align: top;\n",
       "    }\n",
       "\n",
       "    .dataframe thead th {\n",
       "        text-align: right;\n",
       "    }\n",
       "</style>\n",
       "<table border=\"1\" class=\"dataframe\">\n",
       "  <thead>\n",
       "    <tr style=\"text-align: right;\">\n",
       "      <th></th>\n",
       "      <th>VendorID</th>\n",
       "      <th>passenger_count</th>\n",
       "      <th>trip_distance</th>\n",
       "      <th>pickup_longitude</th>\n",
       "      <th>pickup_latitude</th>\n",
       "      <th>RatecodeID</th>\n",
       "      <th>dropoff_longitude</th>\n",
       "      <th>dropoff_latitude</th>\n",
       "      <th>fare_amount</th>\n",
       "    </tr>\n",
       "  </thead>\n",
       "  <tbody>\n",
       "    <tr>\n",
       "      <th>count</th>\n",
       "      <td>3.449986e+07</td>\n",
       "      <td>3.449986e+07</td>\n",
       "      <td>3.449986e+07</td>\n",
       "      <td>3.449986e+07</td>\n",
       "      <td>3.449986e+07</td>\n",
       "      <td>3.449986e+07</td>\n",
       "      <td>3.449986e+07</td>\n",
       "      <td>3.449986e+07</td>\n",
       "      <td>3.449986e+07</td>\n",
       "    </tr>\n",
       "    <tr>\n",
       "      <th>mean</th>\n",
       "      <td>1.532576e+00</td>\n",
       "      <td>1.661700e+00</td>\n",
       "      <td>5.309408e+00</td>\n",
       "      <td>-7.283942e+01</td>\n",
       "      <td>4.012605e+01</td>\n",
       "      <td>1.039150e+00</td>\n",
       "      <td>-7.290482e+01</td>\n",
       "      <td>4.016297e+01</td>\n",
       "      <td>1.257198e+01</td>\n",
       "    </tr>\n",
       "    <tr>\n",
       "      <th>std</th>\n",
       "      <td>4.989377e-01</td>\n",
       "      <td>1.316154e+00</td>\n",
       "      <td>4.672575e+03</td>\n",
       "      <td>9.090656e+00</td>\n",
       "      <td>5.007832e+00</td>\n",
       "      <td>5.564537e-01</td>\n",
       "      <td>8.828348e+00</td>\n",
       "      <td>4.863875e+00</td>\n",
       "      <td>9.179006e+01</td>\n",
       "    </tr>\n",
       "    <tr>\n",
       "      <th>min</th>\n",
       "      <td>1.000000e+00</td>\n",
       "      <td>0.000000e+00</td>\n",
       "      <td>-3.390584e+06</td>\n",
       "      <td>-1.616987e+02</td>\n",
       "      <td>-7.703949e+01</td>\n",
       "      <td>1.000000e+00</td>\n",
       "      <td>-1.616987e+02</td>\n",
       "      <td>-7.703949e+01</td>\n",
       "      <td>-9.576000e+02</td>\n",
       "    </tr>\n",
       "    <tr>\n",
       "      <th>25%</th>\n",
       "      <td>1.000000e+00</td>\n",
       "      <td>1.000000e+00</td>\n",
       "      <td>1.100000e+00</td>\n",
       "      <td>-7.399055e+01</td>\n",
       "      <td>4.074137e+01</td>\n",
       "      <td>1.000000e+00</td>\n",
       "      <td>-7.399009e+01</td>\n",
       "      <td>4.074001e+01</td>\n",
       "      <td>7.000000e+00</td>\n",
       "    </tr>\n",
       "    <tr>\n",
       "      <th>50%</th>\n",
       "      <td>2.000000e+00</td>\n",
       "      <td>1.000000e+00</td>\n",
       "      <td>1.930000e+00</td>\n",
       "      <td>-7.397922e+01</td>\n",
       "      <td>4.075640e+01</td>\n",
       "      <td>1.000000e+00</td>\n",
       "      <td>-7.397832e+01</td>\n",
       "      <td>4.075612e+01</td>\n",
       "      <td>1.000000e+01</td>\n",
       "    </tr>\n",
       "    <tr>\n",
       "      <th>75%</th>\n",
       "      <td>2.000000e+00</td>\n",
       "      <td>2.000000e+00</td>\n",
       "      <td>3.800000e+00</td>\n",
       "      <td>-7.396252e+01</td>\n",
       "      <td>4.076979e+01</td>\n",
       "      <td>1.000000e+00</td>\n",
       "      <td>-7.395599e+01</td>\n",
       "      <td>4.077166e+01</td>\n",
       "      <td>1.550000e+01</td>\n",
       "    </tr>\n",
       "    <tr>\n",
       "      <th>max</th>\n",
       "      <td>2.000000e+00</td>\n",
       "      <td>9.000000e+00</td>\n",
       "      <td>1.907263e+07</td>\n",
       "      <td>9.464387e+01</td>\n",
       "      <td>6.685682e+01</td>\n",
       "      <td>9.900000e+01</td>\n",
       "      <td>3.889659e+01</td>\n",
       "      <td>4.053167e+02</td>\n",
       "      <td>4.294967e+05</td>\n",
       "    </tr>\n",
       "  </tbody>\n",
       "</table>\n",
       "</div>"
      ],
      "text/plain": [
       "           VendorID  passenger_count  trip_distance  pickup_longitude  \\\n",
       "count  3.449986e+07     3.449986e+07   3.449986e+07      3.449986e+07   \n",
       "mean   1.532576e+00     1.661700e+00   5.309408e+00     -7.283942e+01   \n",
       "std    4.989377e-01     1.316154e+00   4.672575e+03      9.090656e+00   \n",
       "min    1.000000e+00     0.000000e+00  -3.390584e+06     -1.616987e+02   \n",
       "25%    1.000000e+00     1.000000e+00   1.100000e+00     -7.399055e+01   \n",
       "50%    2.000000e+00     1.000000e+00   1.930000e+00     -7.397922e+01   \n",
       "75%    2.000000e+00     2.000000e+00   3.800000e+00     -7.396252e+01   \n",
       "max    2.000000e+00     9.000000e+00   1.907263e+07      9.464387e+01   \n",
       "\n",
       "       pickup_latitude    RatecodeID  dropoff_longitude  dropoff_latitude  \\\n",
       "count     3.449986e+07  3.449986e+07       3.449986e+07      3.449986e+07   \n",
       "mean      4.012605e+01  1.039150e+00      -7.290482e+01      4.016297e+01   \n",
       "std       5.007832e+00  5.564537e-01       8.828348e+00      4.863875e+00   \n",
       "min      -7.703949e+01  1.000000e+00      -1.616987e+02     -7.703949e+01   \n",
       "25%       4.074137e+01  1.000000e+00      -7.399009e+01      4.074001e+01   \n",
       "50%       4.075640e+01  1.000000e+00      -7.397832e+01      4.075612e+01   \n",
       "75%       4.076979e+01  1.000000e+00      -7.395599e+01      4.077166e+01   \n",
       "max       6.685682e+01  9.900000e+01       3.889659e+01      4.053167e+02   \n",
       "\n",
       "        fare_amount  \n",
       "count  3.449986e+07  \n",
       "mean   1.257198e+01  \n",
       "std    9.179006e+01  \n",
       "min   -9.576000e+02  \n",
       "25%    7.000000e+00  \n",
       "50%    1.000000e+01  \n",
       "75%    1.550000e+01  \n",
       "max    4.294967e+05  "
      ]
     },
     "execution_count": 15,
     "metadata": {},
     "output_type": "execute_result"
    }
   ],
   "source": [
    "df_final.describe().compute()"
   ]
  },
  {
   "cell_type": "code",
   "execution_count": 16,
   "id": "164b9659-5ec4-4381-bbdb-f36ed7ea6173",
   "metadata": {},
   "outputs": [],
   "source": [
    "# vendor id \n",
    "\n",
    "vendor_share = (\n",
    "    df_final[\"VendorID\"]\n",
    "    .value_counts(normalize = True)\n",
    "    .compute()\n",
    ")"
   ]
  },
  {
   "cell_type": "code",
   "execution_count": 17,
   "id": "378eeae8-f171-4a1a-8761-015f68efb19f",
   "metadata": {},
   "outputs": [
    {
     "data": {
      "text/plain": [
       "VendorID\n",
       "2.0    0.532576\n",
       "1.0    0.467424\n",
       "Name: proportion, dtype: float64"
      ]
     },
     "execution_count": 17,
     "metadata": {},
     "output_type": "execute_result"
    }
   ],
   "source": [
    "vendor_share"
   ]
  },
  {
   "cell_type": "code",
   "execution_count": 18,
   "id": "b17e4d3e-5077-42dd-bfca-5845f494d46e",
   "metadata": {},
   "outputs": [
    {
     "data": {
      "image/png": "[encoded data removed]",
      "text/plain": [
       "<Figure size 640x480 with 1 Axes>"
      ]
     },
     "metadata": {},
     "output_type": "display_data"
    }
   ],
   "source": [
    "# donut chart\n",
    "\n",
    "plt.pie(vendor_share,labels = [\"Creative Mobile Technologies\",\"VeriFone Inc.\"],autopct = \"%.2f%%\",\n",
    "       radius = 1,wedgeprops = dict(width = 0.5,edgecolor = \"w\"))\n",
    "plt.show()"
   ]
  },
  {
   "cell_type": "code",
   "execution_count": 19,
   "id": "6e2411c6-1e8a-412a-be61-2758151fae7f",
   "metadata": {},
   "outputs": [],
   "source": [
    "# passenger count\n",
    "passenger_count = df_final[\"passenger_count\"].value_counts().compute()"
   ]
  },
  {
   "cell_type": "code",
   "execution_count": 20,
   "id": "0a590985-5ef2-4e7f-bb15-e8986ab9e819",
   "metadata": {},
   "outputs": [
    {
     "data": {
      "image/png": "[encoded data removed]",
      "text/plain": [
       "<Figure size 640x480 with 1 Axes>"
      ]
     },
     "metadata": {},
     "output_type": "display_data"
    }
   ],
   "source": [
    "passenger_count.sort_index().plot(kind = \"bar\")\n",
    "plt.show()"
   ]
  },
  {
   "cell_type": "code",
   "execution_count": 21,
   "id": "559132e0-8d84-4893-a81a-4dec081955b4",
   "metadata": {},
   "outputs": [
    {
     "data": {
      "text/plain": [
       "Dask Series Structure:\n",
       "npartitions=82\n",
       "    float64\n",
       "        ...\n",
       "     ...   \n",
       "        ...\n",
       "        ...\n",
       "Dask Name: getitem, 9 expressions\n",
       "Expr=(Drop(frame=Concat(frames=[ArrowStringConversion(frame=FromMapProjectable(b107b31)), ArrowStringConversion(frame=FromMapProjectable(7359bb5)), ArrowStringConversion(frame=FromMapProjectable(12d88c6))], ), columns=['extra', 'mta_tax', 'tip_amount', 'tolls_amount', 'improvement_surcharge', 'total_amount', 'payment_type']))['trip_distance']"
      ]
     },
     "execution_count": 21,
     "metadata": {},
     "output_type": "execute_result"
    }
   ],
   "source": [
    "# Trip Distance\n",
    "df_final[\"trip_distance\"]"
   ]
  },
  {
   "cell_type": "code",
   "execution_count": 22,
   "id": "9d617acb-c0b6-404b-8267-beb91cd58b10",
   "metadata": {},
   "outputs": [
    {
     "data": {
      "text/plain": [
       "<Axes: ylabel='trip_distance'>"
      ]
     },
     "execution_count": 22,
     "metadata": {},
     "output_type": "execute_result"
    },
    {
     "data": {
      "image/png": "[encoded data removed]",
      "text/plain": [
       "<Figure size 640x480 with 1 Axes>"
      ]
     },
     "metadata": {},
     "output_type": "display_data"
    }
   ],
   "source": [
    "sns.boxplot(df_final.loc[:,\"trip_distance\"].compute())"
   ]
  },
  {
   "cell_type": "code",
   "execution_count": 23,
   "id": "470f4736-4e4b-42db-aded-0ba996e01596",
   "metadata": {},
   "outputs": [
    {
     "name": "stdout",
     "output_type": "stream",
     "text": [
      "The trip distance value for 10th percentile is 0.7\n",
      "The trip distance value for 20th percentile is 0.97\n",
      "The trip distance value for 30th percentile is 1.23\n",
      "The trip distance value for 40th percentile is 1.56\n",
      "The trip distance value for 50th percentile is 1.93\n",
      "The trip distance value for 60th percentile is 2.49\n",
      "The trip distance value for 70th percentile is 3.27\n",
      "The trip distance value for 80th percentile is 4.6\n",
      "The trip distance value for 90th percentile is 8.3\n"
     ]
    }
   ],
   "source": [
    "percentile_values = np.arange(0.1, 1.0, 0.1)\n",
    "\n",
    "for percentile in percentile_values:\n",
    "    value = df_final[\"trip_distance\"].quantile(q=percentile).compute()\n",
    "    print(f\"The trip distance value for {int(percentile * 100)}th percentile is {value}\")\n"
   ]
  },
  {
   "cell_type": "code",
   "execution_count": 24,
   "id": "21c2e55b-0ecc-4acf-a8fc-257136082fe0",
   "metadata": {},
   "outputs": [
    {
     "data": {
      "text/plain": [
       "<Axes: ylabel='fare_amount'>"
      ]
     },
     "execution_count": 24,
     "metadata": {},
     "output_type": "execute_result"
    },
    {
     "data": {
      "image/png": "[encoded data removed]",
      "text/plain": [
       "<Figure size 640x480 with 1 Axes>"
      ]
     },
     "metadata": {},
     "output_type": "display_data"
    }
   ],
   "source": [
    "# Fare Amount\n",
    "\n",
    "sns.boxplot(df_final.loc[:,\"fare_amount\"].compute())"
   ]
  },
  {
   "cell_type": "code",
   "execution_count": 25,
   "id": "0774a8da-ce9d-42a7-847f-c55ef2022f81",
   "metadata": {},
   "outputs": [
    {
     "name": "stdout",
     "output_type": "stream",
     "text": [
      "The trip distance value for 10th percentile is 5.0\n",
      "The trip distance value for 20th percentile is 6.0\n",
      "The trip distance value for 30th percentile is 7.5\n",
      "The trip distance value for 40th percentile is 8.5\n",
      "The trip distance value for 50th percentile is 10.0\n",
      "The trip distance value for 60th percentile is 11.5\n",
      "The trip distance value for 70th percentile is 14.0\n",
      "The trip distance value for 80th percentile is 18.0\n",
      "The trip distance value for 90th percentile is 27.0\n"
     ]
    }
   ],
   "source": [
    "percentile_values = np.arange(0.1, 1.0, 0.1)\n",
    "\n",
    "for percentile in percentile_values:\n",
    "    value = df_final[\"fare_amount\"].quantile(q=percentile).compute()\n",
    "    print(f\"The trip distance value for {int(percentile * 100)}th percentile is {value}\")"
   ]
  },
  {
   "cell_type": "code",
   "execution_count": 26,
   "id": "c60859ed-92f9-4328-8d16-ae9df749c704",
   "metadata": {},
   "outputs": [],
   "source": [
    "# RateCode ID\n",
    "rate_code_ids = (\n",
    "    df_final.loc[:,\"RatecodeID\"]\n",
    "    .value_counts()\n",
    "    .compute()\n",
    ")"
   ]
  },
  {
   "cell_type": "code",
   "execution_count": 27,
   "id": "f89b6ede-cb43-47c0-999e-09e63fc105fa",
   "metadata": {},
   "outputs": [
    {
     "data": {
      "text/plain": [
       "RatecodeID\n",
       "3.0        56169\n",
       "4.0        14459\n",
       "99.0         835\n",
       "2.0       697595\n",
       "6.0          320\n",
       "1.0     33627000\n",
       "5.0       103481\n",
       "Name: count, dtype: int64"
      ]
     },
     "execution_count": 27,
     "metadata": {},
     "output_type": "execute_result"
    }
   ],
   "source": [
    "rate_code_ids"
   ]
  },
  {
   "cell_type": "code",
   "execution_count": 28,
   "id": "f896a0ab-b63e-40a0-8c09-271f8597ecde",
   "metadata": {},
   "outputs": [
    {
     "name": "stdout",
     "output_type": "stream",
     "text": [
      "[1.0, 2.0, 3.0, 4.0, 5.0, 6.0, 99.0]\n"
     ]
    }
   ],
   "source": [
    "# unique values in rate code column\n",
    "print(rate_code_ids.sort_index().index.tolist())"
   ]
  },
  {
   "cell_type": "code",
   "execution_count": 29,
   "id": "b41d01fd-3298-4e65-b6bf-22808d1f3f4a",
   "metadata": {},
   "outputs": [
    {
     "data": {
      "image/png": "[encoded data removed]",
      "text/plain": [
       "<Figure size 640x480 with 1 Axes>"
      ]
     },
     "metadata": {},
     "output_type": "display_data"
    }
   ],
   "source": [
    "# plot the bar plot to display the distribution of categories\n",
    "\n",
    "rate_code_ids.sort_index().plot(kind = 'bar')\n",
    "plt.show()"
   ]
  },
  {
   "cell_type": "code",
   "execution_count": 30,
   "id": "2f332109-7435-4486-98a8-b782ddf30073",
   "metadata": {},
   "outputs": [
    {
     "data": {
      "text/html": [
       "<div><strong>Dask DataFrame Structure:</strong></div>\n",
       "<table border=\"1\" class=\"dataframe\">\n",
       "  <thead>\n",
       "    <tr style=\"text-align: right;\">\n",
       "      <th></th>\n",
       "      <th>pickup_latitude</th>\n",
       "      <th>pickup_longitude</th>\n",
       "      <th>dropoff_latitude</th>\n",
       "      <th>dropoff_longitude</th>\n",
       "    </tr>\n",
       "    <tr>\n",
       "      <th>npartitions=82</th>\n",
       "      <th></th>\n",
       "      <th></th>\n",
       "      <th></th>\n",
       "      <th></th>\n",
       "    </tr>\n",
       "  </thead>\n",
       "  <tbody>\n",
       "    <tr>\n",
       "      <th></th>\n",
       "      <td>float64</td>\n",
       "      <td>float64</td>\n",
       "      <td>float64</td>\n",
       "      <td>float64</td>\n",
       "    </tr>\n",
       "    <tr>\n",
       "      <th></th>\n",
       "      <td>...</td>\n",
       "      <td>...</td>\n",
       "      <td>...</td>\n",
       "      <td>...</td>\n",
       "    </tr>\n",
       "    <tr>\n",
       "      <th>...</th>\n",
       "      <td>...</td>\n",
       "      <td>...</td>\n",
       "      <td>...</td>\n",
       "      <td>...</td>\n",
       "    </tr>\n",
       "    <tr>\n",
       "      <th></th>\n",
       "      <td>...</td>\n",
       "      <td>...</td>\n",
       "      <td>...</td>\n",
       "      <td>...</td>\n",
       "    </tr>\n",
       "    <tr>\n",
       "      <th></th>\n",
       "      <td>...</td>\n",
       "      <td>...</td>\n",
       "      <td>...</td>\n",
       "      <td>...</td>\n",
       "    </tr>\n",
       "  </tbody>\n",
       "</table>\n",
       "<div>Dask Name: getitem, 9 expressions</div>"
      ],
      "text/plain": [
       "Dask DataFrame Structure:\n",
       "               pickup_latitude pickup_longitude dropoff_latitude dropoff_longitude\n",
       "npartitions=82                                                                    \n",
       "                       float64          float64          float64           float64\n",
       "                           ...              ...              ...               ...\n",
       "...                        ...              ...              ...               ...\n",
       "                           ...              ...              ...               ...\n",
       "                           ...              ...              ...               ...\n",
       "Dask Name: getitem, 9 expressions\n",
       "Expr=(Drop(frame=Concat(frames=[ArrowStringConversion(frame=FromMapProjectable(b107b31)), ArrowStringConversion(frame=FromMapProjectable(7359bb5)), ArrowStringConversion(frame=FromMapProjectable(12d88c6))], ), columns=['extra', 'mta_tax', 'tip_amount', 'tolls_amount', 'improvement_surcharge', 'total_amount', 'payment_type']))[['pickup_latitude', 'pickup_longitude', 'dropoff_latitude', 'dropoff_longitude']]"
      ]
     },
     "execution_count": 30,
     "metadata": {},
     "output_type": "execute_result"
    }
   ],
   "source": [
    "#Location Based Columns \n",
    "\n",
    "location_subset = df_final[['pickup_latitude','pickup_longitude',\n",
    "                           'dropoff_latitude','dropoff_longitude']]\n",
    "\n",
    "location_subset"
   ]
  },
  {
   "cell_type": "code",
   "execution_count": 31,
   "id": "2c65e5ef-466b-426f-ac6b-6d644a34ac34",
   "metadata": {},
   "outputs": [
    {
     "data": {
      "image/png": "[encoded data removed]",
      "text/plain": [
       "<Figure size 1200x500 with 4 Axes>"
      ]
     },
     "metadata": {},
     "output_type": "display_data"
    }
   ],
   "source": [
    "# boxplots for location based columns\n",
    "\n",
    "fig,(ax1,ax2) = plt.subplots(nrows = 2,ncols = 2,figsize = (12,5))\n",
    "for i in range(4):\n",
    "    if i<=1:\n",
    "        sns.boxplot(y=location_subset.iloc[:,1].compute(),ax = ax1[i])\n",
    "    else:\n",
    "        sns.boxplot(y = location_subset.iloc[:,i].compute(),ax = ax2[i-2])"
   ]
  },
  {
   "cell_type": "code",
   "execution_count": 32,
   "id": "f0eb37d8-a0fd-4e40-8b24-e45b26edebab",
   "metadata": {},
   "outputs": [
    {
     "data": {
      "text/plain": [
       "<Axes: xlabel='count', ylabel='store_and_fwd_flag'>"
      ]
     },
     "execution_count": 32,
     "metadata": {},
     "output_type": "execute_result"
    },
    {
     "data": {
      "image/png": "[encoded data removed]",
      "text/plain": [
       "<Figure size 640x480 with 1 Axes>"
      ]
     },
     "metadata": {},
     "output_type": "display_data"
    }
   ],
   "source": [
    "# store and Fwd flag\n",
    "sns.countplot(df_final[\"store_and_fwd_flag\"].compute())"
   ]
  },
  {
   "cell_type": "code",
   "execution_count": 33,
   "id": "ff059311-dc21-46a3-9c52-db796d340c50",
   "metadata": {},
   "outputs": [
    {
     "data": {
      "text/plain": [
       "Index(['VendorID', 'tpep_pickup_datetime', 'tpep_dropoff_datetime',\n",
       "       'passenger_count', 'trip_distance', 'pickup_longitude',\n",
       "       'pickup_latitude', 'RatecodeID', 'store_and_fwd_flag',\n",
       "       'dropoff_longitude', 'dropoff_latitude', 'fare_amount'],\n",
       "      dtype='object')"
      ]
     },
     "execution_count": 33,
     "metadata": {},
     "output_type": "execute_result"
    }
   ],
   "source": [
    "# Dealing with the date time columns \n",
    "df_final.columns"
   ]
  },
  {
   "cell_type": "code",
   "execution_count": 34,
   "id": "3172ebac-02f1-4ab0-80ec-21f9075c5222",
   "metadata": {},
   "outputs": [],
   "source": [
    "# convert the columns to datetime \n",
    "df_final['tpep_pickup_datetime'] = dd.to_datetime(df_final['tpep_pickup_datetime'],yearfirst = True,format=\"%Y-%m-%d %H:%M:%S\", errors=\"coerce\")\n",
    "df_final[\"tpep_dropoff_datetime\"] = dd.to_datetime(df_final['tpep_dropoff_datetime'],yearfirst = True,format=\"%Y-%m-%d %H:%M:%S\", errors=\"coerce\")"
   ]
  },
  {
   "cell_type": "code",
   "execution_count": 35,
   "id": "26d38b03-ca46-4628-b89e-23342e75d3f6",
   "metadata": {},
   "outputs": [],
   "source": [
    "# creating new columns like month,day of week,hour\n",
    "\n",
    "df_final[\"pickup_months\"] = df_final[\"tpep_pickup_datetime\"].dt.month\n",
    "df_final[\"pickup_day_of_week\"] = df_final[\"tpep_pickup_datetime\"].dt.dayofweek\n",
    "df_final[\"pickup_hour\"] = df_final[\"tpep_pickup_datetime\"].dt.hour"
   ]
  },
  {
   "cell_type": "code",
   "execution_count": 36,
   "id": "3cb52b0f-0e96-43b4-9ea9-791ca6e970d1",
   "metadata": {},
   "outputs": [
    {
     "data": {
      "text/plain": [
       "Index(['VendorID', 'tpep_pickup_datetime', 'tpep_dropoff_datetime',\n",
       "       'passenger_count', 'trip_distance', 'pickup_longitude',\n",
       "       'pickup_latitude', 'RatecodeID', 'store_and_fwd_flag',\n",
       "       'dropoff_longitude', 'dropoff_latitude', 'fare_amount', 'pickup_months',\n",
       "       'pickup_day_of_week', 'pickup_hour'],\n",
       "      dtype='object')"
      ]
     },
     "execution_count": 36,
     "metadata": {},
     "output_type": "execute_result"
    }
   ],
   "source": [
    "df_final.columns"
   ]
  },
  {
   "cell_type": "code",
   "execution_count": 37,
   "id": "72685507-9c80-4441-b89c-b93b1310af2f",
   "metadata": {},
   "outputs": [
    {
     "data": {
      "text/plain": [
       "VendorID                         float64\n",
       "tpep_pickup_datetime      datetime64[ns]\n",
       "tpep_dropoff_datetime     datetime64[ns]\n",
       "passenger_count                  float64\n",
       "trip_distance                    float64\n",
       "pickup_longitude                 float64\n",
       "pickup_latitude                  float64\n",
       "RatecodeID                       float64\n",
       "store_and_fwd_flag       string[pyarrow]\n",
       "dropoff_longitude                float64\n",
       "dropoff_latitude                 float64\n",
       "fare_amount                      float64\n",
       "pickup_months                      int32\n",
       "pickup_day_of_week                 int32\n",
       "pickup_hour                        int32\n",
       "dtype: object"
      ]
     },
     "execution_count": 37,
     "metadata": {},
     "output_type": "execute_result"
    }
   ],
   "source": [
    "df_final.dtypes"
   ]
  },
  {
   "cell_type": "code",
   "execution_count": 38,
   "id": "a55dea5a-1582-4437-b7a2-86ad3f7ad4ec",
   "metadata": {},
   "outputs": [
    {
     "data": {
      "text/html": [
       "<div><strong>Dask DataFrame Structure:</strong></div>\n",
       "<table border=\"1\" class=\"dataframe\">\n",
       "  <thead>\n",
       "    <tr style=\"text-align: right;\">\n",
       "      <th></th>\n",
       "      <th>VendorID</th>\n",
       "      <th>tpep_pickup_datetime</th>\n",
       "      <th>tpep_dropoff_datetime</th>\n",
       "      <th>passenger_count</th>\n",
       "      <th>trip_distance</th>\n",
       "      <th>pickup_longitude</th>\n",
       "      <th>pickup_latitude</th>\n",
       "      <th>RatecodeID</th>\n",
       "      <th>store_and_fwd_flag</th>\n",
       "      <th>dropoff_longitude</th>\n",
       "      <th>dropoff_latitude</th>\n",
       "      <th>fare_amount</th>\n",
       "      <th>pickup_months</th>\n",
       "      <th>pickup_day_of_week</th>\n",
       "      <th>pickup_hour</th>\n",
       "    </tr>\n",
       "    <tr>\n",
       "      <th>npartitions=82</th>\n",
       "      <th></th>\n",
       "      <th></th>\n",
       "      <th></th>\n",
       "      <th></th>\n",
       "      <th></th>\n",
       "      <th></th>\n",
       "      <th></th>\n",
       "      <th></th>\n",
       "      <th></th>\n",
       "      <th></th>\n",
       "      <th></th>\n",
       "      <th></th>\n",
       "      <th></th>\n",
       "      <th></th>\n",
       "      <th></th>\n",
       "    </tr>\n",
       "  </thead>\n",
       "  <tbody>\n",
       "    <tr>\n",
       "      <th></th>\n",
       "      <td>float64</td>\n",
       "      <td>datetime64[ns]</td>\n",
       "      <td>datetime64[ns]</td>\n",
       "      <td>float64</td>\n",
       "      <td>float64</td>\n",
       "      <td>float64</td>\n",
       "      <td>float64</td>\n",
       "      <td>float64</td>\n",
       "      <td>string</td>\n",
       "      <td>float64</td>\n",
       "      <td>float64</td>\n",
       "      <td>float64</td>\n",
       "      <td>int32</td>\n",
       "      <td>int32</td>\n",
       "      <td>int32</td>\n",
       "    </tr>\n",
       "    <tr>\n",
       "      <th></th>\n",
       "      <td>...</td>\n",
       "      <td>...</td>\n",
       "      <td>...</td>\n",
       "      <td>...</td>\n",
       "      <td>...</td>\n",
       "      <td>...</td>\n",
       "      <td>...</td>\n",
       "      <td>...</td>\n",
       "      <td>...</td>\n",
       "      <td>...</td>\n",
       "      <td>...</td>\n",
       "      <td>...</td>\n",
       "      <td>...</td>\n",
       "      <td>...</td>\n",
       "      <td>...</td>\n",
       "    </tr>\n",
       "    <tr>\n",
       "      <th>...</th>\n",
       "      <td>...</td>\n",
       "      <td>...</td>\n",
       "      <td>...</td>\n",
       "      <td>...</td>\n",
       "      <td>...</td>\n",
       "      <td>...</td>\n",
       "      <td>...</td>\n",
       "      <td>...</td>\n",
       "      <td>...</td>\n",
       "      <td>...</td>\n",
       "      <td>...</td>\n",
       "      <td>...</td>\n",
       "      <td>...</td>\n",
       "      <td>...</td>\n",
       "      <td>...</td>\n",
       "    </tr>\n",
       "    <tr>\n",
       "      <th></th>\n",
       "      <td>...</td>\n",
       "      <td>...</td>\n",
       "      <td>...</td>\n",
       "      <td>...</td>\n",
       "      <td>...</td>\n",
       "      <td>...</td>\n",
       "      <td>...</td>\n",
       "      <td>...</td>\n",
       "      <td>...</td>\n",
       "      <td>...</td>\n",
       "      <td>...</td>\n",
       "      <td>...</td>\n",
       "      <td>...</td>\n",
       "      <td>...</td>\n",
       "      <td>...</td>\n",
       "    </tr>\n",
       "    <tr>\n",
       "      <th></th>\n",
       "      <td>...</td>\n",
       "      <td>...</td>\n",
       "      <td>...</td>\n",
       "      <td>...</td>\n",
       "      <td>...</td>\n",
       "      <td>...</td>\n",
       "      <td>...</td>\n",
       "      <td>...</td>\n",
       "      <td>...</td>\n",
       "      <td>...</td>\n",
       "      <td>...</td>\n",
       "      <td>...</td>\n",
       "      <td>...</td>\n",
       "      <td>...</td>\n",
       "      <td>...</td>\n",
       "    </tr>\n",
       "  </tbody>\n",
       "</table>\n",
       "<div>Dask Name: assign, 23 expressions</div>"
      ],
      "text/plain": [
       "Dask DataFrame Structure:\n",
       "               VendorID tpep_pickup_datetime tpep_dropoff_datetime passenger_count trip_distance pickup_longitude pickup_latitude RatecodeID store_and_fwd_flag dropoff_longitude dropoff_latitude fare_amount pickup_months pickup_day_of_week pickup_hour\n",
       "npartitions=82                                                                                                                                                                                                                                             \n",
       "                float64       datetime64[ns]        datetime64[ns]         float64       float64          float64         float64    float64             string           float64          float64     float64         int32              int32       int32\n",
       "                    ...                  ...                   ...             ...           ...              ...             ...        ...                ...               ...              ...         ...           ...                ...         ...\n",
       "...                 ...                  ...                   ...             ...           ...              ...             ...        ...                ...               ...              ...         ...           ...                ...         ...\n",
       "                    ...                  ...                   ...             ...           ...              ...             ...        ...                ...               ...              ...         ...           ...                ...         ...\n",
       "                    ...                  ...                   ...             ...           ...              ...             ...        ...                ...               ...              ...         ...           ...                ...         ...\n",
       "Dask Name: assign, 23 expressions\n",
       "Expr=Assign(frame=Assign(frame=Assign(frame=Assign(frame=Assign(frame=Drop(frame=Concat(frames=[ArrowStringConversion(frame=FromMapProjectable(b107b31)), ArrowStringConversion(frame=FromMapProjectable(7359bb5)), ArrowStringConversion(frame=FromMapProjectable(12d88c6))], ), columns=['extra', 'mta_tax', 'tip_amount', 'tolls_amount', 'improvement_surcharge', 'total_amount', 'payment_type']))))))"
      ]
     },
     "execution_count": 38,
     "metadata": {},
     "output_type": "execute_result"
    }
   ],
   "source": [
    "df_final"
   ]
  },
  {
   "cell_type": "code",
   "execution_count": 40,
   "id": "2464321f-0010-4f86-aac4-38ac4646cbfd",
   "metadata": {},
   "outputs": [],
   "source": [
    "# plot the number of pickups\n",
    "\n",
    "pickups_every_3_days = (\n",
    "    df_final\n",
    "    .set_index(\"tpep_pickup_datetime\",sorted=False,shuffle = \"tasks\")\n",
    "    .resample(\"3D\")\n",
    "    .size()\n",
    "    .compute()\n",
    ")"
   ]
  },
  {
   "cell_type": "code",
   "execution_count": 41,
   "id": "4aadd8bb-4b3d-4020-8c0d-a168c85a9f12",
   "metadata": {},
   "outputs": [
    {
     "data": {
      "text/plain": [
       "tpep_pickup_datetime\n",
       "2016-01-01     960746\n",
       "2016-01-04    1007938\n",
       "2016-01-07    1162789\n",
       "2016-01-10    1061829\n",
       "2016-01-13    1192852\n",
       "2016-01-16    1132536\n",
       "2016-01-19    1166946\n",
       "2016-01-22     658061\n",
       "2016-01-25     968922\n",
       "2016-01-28    1232734\n",
       "2016-01-31    1065990\n",
       "2016-02-03    1176173\n",
       "2016-02-06    1144752\n",
       "2016-02-09    1192598\n",
       "2016-02-12    1285409\n",
       "2016-02-15    1101217\n",
       "2016-02-18    1256220\n",
       "2016-02-21    1114674\n",
       "2016-02-24    1251497\n",
       "2016-02-27    1155024\n",
       "2016-03-01    1208179\n",
       "2016-03-04    1270530\n",
       "2016-03-07    1106194\n",
       "2016-03-10    1273983\n",
       "2016-03-13    1134075\n",
       "2016-03-16    1234570\n",
       "2016-03-19    1176151\n",
       "2016-03-22    1155525\n",
       "2016-03-25    1149227\n",
       "2016-03-28    1108463\n",
       "2016-03-31     394055\n",
       "Freq: 3D, dtype: int64"
      ]
     },
     "execution_count": 41,
     "metadata": {},
     "output_type": "execute_result"
    }
   ],
   "source": [
    "pickups_every_3_days"
   ]
  },
  {
   "cell_type": "code",
   "execution_count": 44,
   "id": "7209a2da-33f4-40e4-9469-06936d1a2c8b",
   "metadata": {},
   "outputs": [
    {
     "data": {
      "image/png": "[encoded data removed]",
      "text/plain": [
       "<Figure size 640x480 with 1 Axes>"
      ]
     },
     "metadata": {},
     "output_type": "display_data"
    }
   ],
   "source": [
    "plt.plot(pickups_every_3_days)\n",
    "plt.show()"
   ]
  },
  {
   "cell_type": "code",
   "execution_count": 51,
   "id": "6223b1e6-52c0-4d61-9854-d2e3fbd12cd4",
   "metadata": {},
   "outputs": [],
   "source": [
    "#pickups for each hour of the day\n",
    "pickups_each_hour = (df_final\n",
    "                    .groupby(['pickup_hour','pickup_day_of_week'])[\"VendorID\"]\n",
    "                    .count()\n",
    "                    .compute()\n",
    "                    )"
   ]
  },
  {
   "cell_type": "code",
   "execution_count": 53,
   "id": "65598502-ac85-4437-85bb-146d39b6881b",
   "metadata": {},
   "outputs": [
    {
     "data": {
      "text/plain": [
       "pickup_hour  pickup_day_of_week\n",
       "4            2                      29498\n",
       "             3                      32480\n",
       "5            2                      49844\n",
       "6            2                     136330\n",
       "             3                     138392\n",
       "                                    ...  \n",
       "23           5                     299024\n",
       "0            0                     100903\n",
       "             1                     101299\n",
       "19           0                     291911\n",
       "23           0                     154325\n",
       "Name: VendorID, Length: 168, dtype: int64"
      ]
     },
     "execution_count": 53,
     "metadata": {},
     "output_type": "execute_result"
    }
   ],
   "source": [
    "pickups_each_hour"
   ]
  },
  {
   "cell_type": "code",
   "execution_count": 54,
   "id": "03edce54-bd4d-410f-bb4c-a39498ef52ac",
   "metadata": {},
   "outputs": [
    {
     "data": {
      "text/plain": [
       "{0: 'Mon', 1: 'Tue', 2: 'Wed', 3: 'Thu', 4: 'Fri', 5: 'Sat', 6: 'Sun'}"
      ]
     },
     "execution_count": 54,
     "metadata": {},
     "output_type": "execute_result"
    }
   ],
   "source": [
    "day_names = [\"Mon\",\"Tue\",\"Wed\",\"Thu\",\"Fri\",\"Sat\",\"Sun\"]\n",
    "\n",
    "replacement_mapper = {k:v for k,v in enumerate(day_names)}\n",
    "\n",
    "replacement_mapper"
   ]
  },
  {
   "cell_type": "code",
   "execution_count": 62,
   "id": "f8a178a2-3581-486a-8a2e-6edaaa3741cd",
   "metadata": {},
   "outputs": [],
   "source": [
    "pickups_each_hour_frame = pickups_each_hour.to_frame()"
   ]
  },
  {
   "cell_type": "code",
   "execution_count": 64,
   "id": "0e693f16-ee7e-41b7-9cfc-b052fdd606bf",
   "metadata": {},
   "outputs": [],
   "source": [
    "pickups_each_hour_frame=pickups_each_hour_frame.reset_index()"
   ]
  },
  {
   "cell_type": "code",
   "execution_count": 65,
   "id": "1733b23a-36bb-4be2-806c-00438feeb9b1",
   "metadata": {},
   "outputs": [
    {
     "data": {
      "text/html": [
       "<div>\n",
       "<style scoped>\n",
       "    .dataframe tbody tr th:only-of-type {\n",
       "        vertical-align: middle;\n",
       "    }\n",
       "\n",
       "    .dataframe tbody tr th {\n",
       "        vertical-align: top;\n",
       "    }\n",
       "\n",
       "    .dataframe thead th {\n",
       "        text-align: right;\n",
       "    }\n",
       "</style>\n",
       "<table border=\"1\" class=\"dataframe\">\n",
       "  <thead>\n",
       "    <tr style=\"text-align: right;\">\n",
       "      <th></th>\n",
       "      <th>pickup_hour</th>\n",
       "      <th>pickup_day_of_week</th>\n",
       "      <th>VendorID</th>\n",
       "    </tr>\n",
       "  </thead>\n",
       "  <tbody>\n",
       "    <tr>\n",
       "      <th>0</th>\n",
       "      <td>4</td>\n",
       "      <td>2</td>\n",
       "      <td>29498</td>\n",
       "    </tr>\n",
       "    <tr>\n",
       "      <th>1</th>\n",
       "      <td>4</td>\n",
       "      <td>3</td>\n",
       "      <td>32480</td>\n",
       "    </tr>\n",
       "    <tr>\n",
       "      <th>2</th>\n",
       "      <td>5</td>\n",
       "      <td>2</td>\n",
       "      <td>49844</td>\n",
       "    </tr>\n",
       "    <tr>\n",
       "      <th>3</th>\n",
       "      <td>6</td>\n",
       "      <td>2</td>\n",
       "      <td>136330</td>\n",
       "    </tr>\n",
       "    <tr>\n",
       "      <th>4</th>\n",
       "      <td>6</td>\n",
       "      <td>3</td>\n",
       "      <td>138392</td>\n",
       "    </tr>\n",
       "    <tr>\n",
       "      <th>...</th>\n",
       "      <td>...</td>\n",
       "      <td>...</td>\n",
       "      <td>...</td>\n",
       "    </tr>\n",
       "    <tr>\n",
       "      <th>163</th>\n",
       "      <td>23</td>\n",
       "      <td>5</td>\n",
       "      <td>299024</td>\n",
       "    </tr>\n",
       "    <tr>\n",
       "      <th>164</th>\n",
       "      <td>0</td>\n",
       "      <td>0</td>\n",
       "      <td>100903</td>\n",
       "    </tr>\n",
       "    <tr>\n",
       "      <th>165</th>\n",
       "      <td>0</td>\n",
       "      <td>1</td>\n",
       "      <td>101299</td>\n",
       "    </tr>\n",
       "    <tr>\n",
       "      <th>166</th>\n",
       "      <td>19</td>\n",
       "      <td>0</td>\n",
       "      <td>291911</td>\n",
       "    </tr>\n",
       "    <tr>\n",
       "      <th>167</th>\n",
       "      <td>23</td>\n",
       "      <td>0</td>\n",
       "      <td>154325</td>\n",
       "    </tr>\n",
       "  </tbody>\n",
       "</table>\n",
       "<p>168 rows × 3 columns</p>\n",
       "</div>"
      ],
      "text/plain": [
       "     pickup_hour  pickup_day_of_week  VendorID\n",
       "0              4                   2     29498\n",
       "1              4                   3     32480\n",
       "2              5                   2     49844\n",
       "3              6                   2    136330\n",
       "4              6                   3    138392\n",
       "..           ...                 ...       ...\n",
       "163           23                   5    299024\n",
       "164            0                   0    100903\n",
       "165            0                   1    101299\n",
       "166           19                   0    291911\n",
       "167           23                   0    154325\n",
       "\n",
       "[168 rows x 3 columns]"
      ]
     },
     "execution_count": 65,
     "metadata": {},
     "output_type": "execute_result"
    }
   ],
   "source": [
    "pickups_each_hour_frame"
   ]
  },
  {
   "cell_type": "code",
   "execution_count": 67,
   "id": "1de5f6f9-5d93-4e30-ac21-8817bbc66b5c",
   "metadata": {},
   "outputs": [],
   "source": [
    "pickups_each_hour_frame.rename(columns = {\"VendorID\":\"Number of pickups\"},inplace=True)"
   ]
  },
  {
   "cell_type": "code",
   "execution_count": 68,
   "id": "36d907d0-8a51-4a92-9108-9d1c1f267a70",
   "metadata": {},
   "outputs": [],
   "source": [
    "pickups_each_hour_frame.replace({\"pickup_day_of_week\": replacement_mapper}, inplace=True)"
   ]
  },
  {
   "cell_type": "code",
   "execution_count": 69,
   "id": "83f56720-77b8-47f0-970b-1492cc8c05ea",
   "metadata": {},
   "outputs": [
    {
     "data": {
      "text/html": [
       "<div>\n",
       "<style scoped>\n",
       "    .dataframe tbody tr th:only-of-type {\n",
       "        vertical-align: middle;\n",
       "    }\n",
       "\n",
       "    .dataframe tbody tr th {\n",
       "        vertical-align: top;\n",
       "    }\n",
       "\n",
       "    .dataframe thead th {\n",
       "        text-align: right;\n",
       "    }\n",
       "</style>\n",
       "<table border=\"1\" class=\"dataframe\">\n",
       "  <thead>\n",
       "    <tr style=\"text-align: right;\">\n",
       "      <th></th>\n",
       "      <th>pickup_hour</th>\n",
       "      <th>pickup_day_of_week</th>\n",
       "      <th>Number of pickups</th>\n",
       "    </tr>\n",
       "  </thead>\n",
       "  <tbody>\n",
       "    <tr>\n",
       "      <th>0</th>\n",
       "      <td>4</td>\n",
       "      <td>Wed</td>\n",
       "      <td>29498</td>\n",
       "    </tr>\n",
       "    <tr>\n",
       "      <th>1</th>\n",
       "      <td>4</td>\n",
       "      <td>Thu</td>\n",
       "      <td>32480</td>\n",
       "    </tr>\n",
       "    <tr>\n",
       "      <th>2</th>\n",
       "      <td>5</td>\n",
       "      <td>Wed</td>\n",
       "      <td>49844</td>\n",
       "    </tr>\n",
       "    <tr>\n",
       "      <th>3</th>\n",
       "      <td>6</td>\n",
       "      <td>Wed</td>\n",
       "      <td>136330</td>\n",
       "    </tr>\n",
       "    <tr>\n",
       "      <th>4</th>\n",
       "      <td>6</td>\n",
       "      <td>Thu</td>\n",
       "      <td>138392</td>\n",
       "    </tr>\n",
       "    <tr>\n",
       "      <th>...</th>\n",
       "      <td>...</td>\n",
       "      <td>...</td>\n",
       "      <td>...</td>\n",
       "    </tr>\n",
       "    <tr>\n",
       "      <th>163</th>\n",
       "      <td>23</td>\n",
       "      <td>Sat</td>\n",
       "      <td>299024</td>\n",
       "    </tr>\n",
       "    <tr>\n",
       "      <th>164</th>\n",
       "      <td>0</td>\n",
       "      <td>Mon</td>\n",
       "      <td>100903</td>\n",
       "    </tr>\n",
       "    <tr>\n",
       "      <th>165</th>\n",
       "      <td>0</td>\n",
       "      <td>Tue</td>\n",
       "      <td>101299</td>\n",
       "    </tr>\n",
       "    <tr>\n",
       "      <th>166</th>\n",
       "      <td>19</td>\n",
       "      <td>Mon</td>\n",
       "      <td>291911</td>\n",
       "    </tr>\n",
       "    <tr>\n",
       "      <th>167</th>\n",
       "      <td>23</td>\n",
       "      <td>Mon</td>\n",
       "      <td>154325</td>\n",
       "    </tr>\n",
       "  </tbody>\n",
       "</table>\n",
       "<p>168 rows × 3 columns</p>\n",
       "</div>"
      ],
      "text/plain": [
       "     pickup_hour pickup_day_of_week  Number of pickups\n",
       "0              4                Wed              29498\n",
       "1              4                Thu              32480\n",
       "2              5                Wed              49844\n",
       "3              6                Wed             136330\n",
       "4              6                Thu             138392\n",
       "..           ...                ...                ...\n",
       "163           23                Sat             299024\n",
       "164            0                Mon             100903\n",
       "165            0                Tue             101299\n",
       "166           19                Mon             291911\n",
       "167           23                Mon             154325\n",
       "\n",
       "[168 rows x 3 columns]"
      ]
     },
     "execution_count": 69,
     "metadata": {},
     "output_type": "execute_result"
    }
   ],
   "source": [
    "pickups_each_hour_frame"
   ]
  },
  {
   "cell_type": "code",
   "execution_count": 71,
   "id": "ea431952-20d5-4ea5-afb0-f4fd50f5be3c",
   "metadata": {},
   "outputs": [
    {
     "data": {
      "image/png": "[encoded data removed]",
      "text/plain": [
       "<Figure size 1200x600 with 1 Axes>"
      ]
     },
     "metadata": {},
     "output_type": "display_data"
    }
   ],
   "source": [
    "# plot the lineplot\n",
    "fig = plt.figure(figsize = (12,6))\n",
    "\n",
    "sns.lineplot(pickups_each_hour_frame,x=\"pickup_hour\",y=\"Number of pickups\",\n",
    "             hue = \"pickup_day_of_week\",hue_order = day_names)\n",
    "\n",
    "plt.show()"
   ]
  },
  {
   "cell_type": "code",
   "execution_count": null,
   "id": "279e2380-c09e-4b0a-89fe-bc372742eba7",
   "metadata": {},
   "outputs": [],
   "source": []
  },
  {
   "cell_type": "code",
   "execution_count": null,
   "id": "bc5f70db-528c-4d59-9b86-a4846db1f4f2",
   "metadata": {},
   "outputs": [],
   "source": []
  },
  {
   "cell_type": "code",
   "execution_count": null,
   "id": "db3d0b8a-c746-441a-8048-2604f49b6b5f",
   "metadata": {},
   "outputs": [],
   "source": []
  }
 ],
 "metadata": {
  "kernelspec": {
   "display_name": "Python 3 (ipykernel)",
   "language": "python",
   "name": "python3"
  },
  "language_info": {
   "codemirror_mode": {
    "name": "ipython",
    "version": 3
   },
   "file_extension": ".py",
   "mimetype": "text/x-python",
   "name": "python",
   "nbconvert_exporter": "python",
   "pygments_lexer": "ipython3",
   "version": "3.11.2"
  }
 },
 "nbformat": 4,
 "nbformat_minor": 5
}
