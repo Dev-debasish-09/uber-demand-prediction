{
 "cells": [
  {
   "cell_type": "code",
   "execution_count": 1,
   "id": "d41afa20-3787-48d6-804c-14461a4e8903",
   "metadata": {},
   "outputs": [],
   "source": [
    "import pandas as pd\n",
    "import numpy as np\n",
    "import matplotlib.pyplot as plt\n",
    "import seaborn as sns\n",
    "import dask.dataframe as dd"
   ]
  },
  {
   "cell_type": "code",
   "execution_count": 2,
   "id": "6128ad1b-d594-46ce-8489-67dad2c5ec5e",
   "metadata": {},
   "outputs": [],
   "source": [
    "# file uploaded\n",
    "df_jan_path = \"C:\\\\Users\\\\debas\\\\Uber demand Prediction/Data/yellow_tripdata_2016-01.csv\"\n",
    "df_feb_path = \"C:\\\\Users\\\\debas\\\\Uber demand Prediction/Data/yellow_tripdata_2016-02.csv\"\n",
    "df_mar_path = \"C:\\\\Users\\\\debas\\\\Uber demand Prediction/Data/yellow_tripdata_2016-03.csv\""
   ]
  },
  {
   "cell_type": "code",
   "execution_count": 3,
   "id": "4474d61a-5f1b-4005-94d9-b7ff861e41e4",
   "metadata": {},
   "outputs": [],
   "source": [
    "df_jan = dd.read_csv(df_jan_path,assume_missing=True,usecols = ['trip_distance','pickup_longitude','pickup_latitude',\n",
    "                                                                'dropoff_longitude','dropoff_latitude','fare_amount'])\n",
    "df_feb = dd.read_csv(df_feb_path,assume_missing=True,usecols = ['trip_distance','pickup_longitude','pickup_latitude',\n",
    "                                                                'dropoff_longitude','dropoff_latitude','fare_amount'])\n",
    "df_mar = dd.read_csv(df_mar_path,assume_missing=True,usecols = ['trip_distance','pickup_longitude','pickup_latitude',\n",
    "                                                                'dropoff_longitude','dropoff_latitude','fare_amount'])"
   ]
  },
  {
   "cell_type": "code",
   "execution_count": 4,
   "id": "e2aafbdd-54d8-4105-90b4-057be1724837",
   "metadata": {},
   "outputs": [
    {
     "data": {
      "text/html": [
       "<div><strong>Dask DataFrame Structure:</strong></div>\n",
       "<table border=\"1\" class=\"dataframe\">\n",
       "  <thead>\n",
       "    <tr style=\"text-align: right;\">\n",
       "      <th></th>\n",
       "      <th>trip_distance</th>\n",
       "      <th>pickup_longitude</th>\n",
       "      <th>pickup_latitude</th>\n",
       "      <th>dropoff_longitude</th>\n",
       "      <th>dropoff_latitude</th>\n",
       "      <th>fare_amount</th>\n",
       "    </tr>\n",
       "    <tr>\n",
       "      <th>npartitions=26</th>\n",
       "      <th></th>\n",
       "      <th></th>\n",
       "      <th></th>\n",
       "      <th></th>\n",
       "      <th></th>\n",
       "      <th></th>\n",
       "    </tr>\n",
       "  </thead>\n",
       "  <tbody>\n",
       "    <tr>\n",
       "      <th></th>\n",
       "      <td>float64</td>\n",
       "      <td>float64</td>\n",
       "      <td>float64</td>\n",
       "      <td>float64</td>\n",
       "      <td>float64</td>\n",
       "      <td>float64</td>\n",
       "    </tr>\n",
       "    <tr>\n",
       "      <th></th>\n",
       "      <td>...</td>\n",
       "      <td>...</td>\n",
       "      <td>...</td>\n",
       "      <td>...</td>\n",
       "      <td>...</td>\n",
       "      <td>...</td>\n",
       "    </tr>\n",
       "    <tr>\n",
       "      <th>...</th>\n",
       "      <td>...</td>\n",
       "      <td>...</td>\n",
       "      <td>...</td>\n",
       "      <td>...</td>\n",
       "      <td>...</td>\n",
       "      <td>...</td>\n",
       "    </tr>\n",
       "    <tr>\n",
       "      <th></th>\n",
       "      <td>...</td>\n",
       "      <td>...</td>\n",
       "      <td>...</td>\n",
       "      <td>...</td>\n",
       "      <td>...</td>\n",
       "      <td>...</td>\n",
       "    </tr>\n",
       "    <tr>\n",
       "      <th></th>\n",
       "      <td>...</td>\n",
       "      <td>...</td>\n",
       "      <td>...</td>\n",
       "      <td>...</td>\n",
       "      <td>...</td>\n",
       "      <td>...</td>\n",
       "    </tr>\n",
       "  </tbody>\n",
       "</table>\n",
       "<div>Dask Name: to_string_dtype, 2 expressions</div>"
      ],
      "text/plain": [
       "Dask DataFrame Structure:\n",
       "               trip_distance pickup_longitude pickup_latitude dropoff_longitude dropoff_latitude fare_amount\n",
       "npartitions=26                                                                                              \n",
       "                     float64          float64         float64           float64          float64     float64\n",
       "                         ...              ...             ...               ...              ...         ...\n",
       "...                      ...              ...             ...               ...              ...         ...\n",
       "                         ...              ...             ...               ...              ...         ...\n",
       "                         ...              ...             ...               ...              ...         ...\n",
       "Dask Name: to_string_dtype, 2 expressions\n",
       "Expr=ArrowStringConversion(frame=FromMapProjectable(0f3c060))"
      ]
     },
     "execution_count": 4,
     "metadata": {},
     "output_type": "execute_result"
    }
   ],
   "source": [
    "df_jan"
   ]
  },
  {
   "cell_type": "code",
   "execution_count": 5,
   "id": "a57dc572-50d9-4fc2-a463-1a1f8943f99d",
   "metadata": {},
   "outputs": [],
   "source": [
    "# concat the three dataframes as one \n",
    "\n",
    "df_final = dd.concat([df_jan,df_feb,df_mar],axis = 0)"
   ]
  },
  {
   "cell_type": "code",
   "execution_count": 6,
   "id": "1840c884-2c99-4009-87a0-a562c0cded81",
   "metadata": {},
   "outputs": [],
   "source": [
    "# set the values of coordinate\n",
    "\n",
    "min_latitude = 40.60\n",
    "max_latitude = 40.85\n",
    "min_longitude = -74.05\n",
    "max_longitude = -73.70\n"
   ]
  },
  {
   "cell_type": "code",
   "execution_count": 7,
   "id": "e2a2b2bc-d150-4d51-950e-f7b30512a820",
   "metadata": {},
   "outputs": [],
   "source": [
    "# fare amount column\n",
    "fare_amount = df_final[\"fare_amount\"].compute()\n",
    "\n",
    "# trip distance column\n",
    "trip_distance = df_final[\"trip_distance\"].compute()\n",
    "\n"
   ]
  },
  {
   "cell_type": "code",
   "execution_count": 8,
   "id": "df3df7ce-9622-4173-a2e0-4d81d09d586e",
   "metadata": {},
   "outputs": [
    {
     "name": "stdout",
     "output_type": "stream",
     "text": [
      "0          7.5\n",
      "1         18.0\n",
      "2         33.0\n",
      "3         16.5\n",
      "4          8.0\n",
      "          ... \n",
      "420272    19.0\n",
      "420273     4.0\n",
      "420274    52.0\n",
      "420275    42.5\n",
      "420276    52.0\n",
      "Name: fare_amount, Length: 34499859, dtype: float64\n",
      "0          1.10\n",
      "1          4.90\n",
      "2         10.54\n",
      "3          4.75\n",
      "4          1.76\n",
      "          ...  \n",
      "420272     0.00\n",
      "420273     0.40\n",
      "420274    20.20\n",
      "420275    15.40\n",
      "420276    17.50\n",
      "Name: trip_distance, Length: 34499859, dtype: float64\n"
     ]
    }
   ],
   "source": [
    "print(fare_amount)\n",
    "print(trip_distance)"
   ]
  },
  {
   "cell_type": "code",
   "execution_count": 9,
   "id": "26b74143-98e8-440d-89f5-4bdb8b5cab44",
   "metadata": {},
   "outputs": [
    {
     "data": {
      "text/plain": [
       "3.4499859"
      ]
     },
     "execution_count": 9,
     "metadata": {},
     "output_type": "execute_result"
    }
   ],
   "source": [
    "fare_amount.shape[0] / 10000000"
   ]
  },
  {
   "cell_type": "code",
   "execution_count": 10,
   "id": "04a9fb72-9e3d-406b-9faf-c4e656859e88",
   "metadata": {},
   "outputs": [
    {
     "data": {
      "text/plain": [
       "array([0.991, 0.992, 0.993, 0.994, 0.995, 0.996, 0.997, 0.998, 0.999,\n",
       "       1.   ])"
      ]
     },
     "execution_count": 10,
     "metadata": {},
     "output_type": "execute_result"
    }
   ],
   "source": [
    "# percentile values for fare amount \n",
    "\n",
    "percentile_values = np.arange(0.991,1.000,0.001)\n",
    "percentile_values"
   ]
  },
  {
   "cell_type": "code",
   "execution_count": 11,
   "id": "7595983c-a5e0-4428-a680-b461fef40c39",
   "metadata": {},
   "outputs": [
    {
     "data": {
      "text/plain": [
       "0.991        52.00\n",
       "0.992        52.00\n",
       "0.993        52.00\n",
       "0.994        52.00\n",
       "0.995        54.00\n",
       "0.996        58.50\n",
       "0.997        63.00\n",
       "0.998        69.00\n",
       "0.999        81.00\n",
       "1.000    429496.72\n",
       "Name: fare_amount, dtype: float64"
      ]
     },
     "execution_count": 11,
     "metadata": {},
     "output_type": "execute_result"
    }
   ],
   "source": [
    "fare_amount.quantile(percentile_values)"
   ]
  },
  {
   "cell_type": "code",
   "execution_count": 12,
   "id": "cb1e0464-da9b-4209-8506-5cc682653d46",
   "metadata": {},
   "outputs": [
    {
     "name": "stdout",
     "output_type": "stream",
     "text": [
      "0.5\n",
      "81.0\n"
     ]
    }
   ],
   "source": [
    "max_fare_amount_val = fare_amount.quantile(percentile_values).iloc[-2].item()\n",
    "min_fare_amount_val = 0.50\n",
    "\n",
    "print(min_fare_amount_val)\n",
    "print(max_fare_amount_val)"
   ]
  },
  {
   "cell_type": "code",
   "execution_count": 13,
   "id": "992518cc-0dce-4b8f-89cb-677b9a3def89",
   "metadata": {},
   "outputs": [
    {
     "data": {
      "text/plain": [
       "0.991          18.80\n",
       "0.992          19.00\n",
       "0.993          19.30\n",
       "0.994          19.63\n",
       "0.995          20.04\n",
       "0.996          20.51\n",
       "0.997          21.10\n",
       "0.998          21.90\n",
       "0.999          24.43\n",
       "1.000    19072628.80\n",
       "Name: trip_distance, dtype: float64"
      ]
     },
     "execution_count": 13,
     "metadata": {},
     "output_type": "execute_result"
    }
   ],
   "source": [
    "trip_distance.quantile(percentile_values)"
   ]
  },
  {
   "cell_type": "code",
   "execution_count": 14,
   "id": "1c2492da-c1d5-46d0-9bd6-f4f3ec74ddef",
   "metadata": {},
   "outputs": [
    {
     "name": "stdout",
     "output_type": "stream",
     "text": [
      "0.25\n",
      "24.43\n"
     ]
    }
   ],
   "source": [
    "# percentile value for trip distance\n",
    "\n",
    "min_trip_distance_val = 0.25\n",
    "max_trip_distance_val = trip_distance.quantile(percentile_values).iloc[-2].item()\n",
    "\n",
    "print(min_trip_distance_val)\n",
    "print(max_trip_distance_val)"
   ]
  },
  {
   "cell_type": "code",
   "execution_count": 15,
   "id": "41e211e2-39f7-4428-b560-6dfae4674777",
   "metadata": {},
   "outputs": [],
   "source": [
    "# select data points with the given ranges\n",
    "\n",
    "df_final = df_final.loc[(df_final[\"pickup_latitude\"].between(min_latitude,max_latitude,inclusive = 'both'))&\n",
    "                         (df_final[\"pickup_longitude\"].between(min_longitude,max_longitude,inclusive='both'))&\n",
    "                         (df_final[\"dropoff_latitude\"].between(min_latitude,max_latitude,inclusive='both'))&\n",
    "                          (df_final[\"dropoff_longitude\"].between(min_longitude,max_longitude,inclusive='both')),:]"
   ]
  },
  {
   "cell_type": "code",
   "execution_count": 16,
   "id": "fc533571-fc91-48ae-874a-3c5835fbff5c",
   "metadata": {},
   "outputs": [],
   "source": [
    "df_final = df_final.loc[(df_final['fare_amount'].between(min_fare_amount_val,max_fare_amount_val,inclusive='both')) &\n",
    "                         (df_final['trip_distance'].between(min_trip_distance_val,max_trip_distance_val,inclusive='both'))]"
   ]
  },
  {
   "cell_type": "code",
   "execution_count": 17,
   "id": "f1231206-f24a-4df8-93ea-15e8452b7eb7",
   "metadata": {},
   "outputs": [
    {
     "data": {
      "text/html": [
       "<div><strong>Dask DataFrame Structure:</strong></div>\n",
       "<table border=\"1\" class=\"dataframe\">\n",
       "  <thead>\n",
       "    <tr style=\"text-align: right;\">\n",
       "      <th></th>\n",
       "      <th>pickup_latitude</th>\n",
       "      <th>pickup_longitude</th>\n",
       "      <th>dropoff_latitude</th>\n",
       "      <th>dropoff_longitude</th>\n",
       "    </tr>\n",
       "    <tr>\n",
       "      <th>npartitions=82</th>\n",
       "      <th></th>\n",
       "      <th></th>\n",
       "      <th></th>\n",
       "      <th></th>\n",
       "    </tr>\n",
       "  </thead>\n",
       "  <tbody>\n",
       "    <tr>\n",
       "      <th></th>\n",
       "      <td>float64</td>\n",
       "      <td>float64</td>\n",
       "      <td>float64</td>\n",
       "      <td>float64</td>\n",
       "    </tr>\n",
       "    <tr>\n",
       "      <th></th>\n",
       "      <td>...</td>\n",
       "      <td>...</td>\n",
       "      <td>...</td>\n",
       "      <td>...</td>\n",
       "    </tr>\n",
       "    <tr>\n",
       "      <th>...</th>\n",
       "      <td>...</td>\n",
       "      <td>...</td>\n",
       "      <td>...</td>\n",
       "      <td>...</td>\n",
       "    </tr>\n",
       "    <tr>\n",
       "      <th></th>\n",
       "      <td>...</td>\n",
       "      <td>...</td>\n",
       "      <td>...</td>\n",
       "      <td>...</td>\n",
       "    </tr>\n",
       "    <tr>\n",
       "      <th></th>\n",
       "      <td>...</td>\n",
       "      <td>...</td>\n",
       "      <td>...</td>\n",
       "      <td>...</td>\n",
       "    </tr>\n",
       "  </tbody>\n",
       "</table>\n",
       "<div>Dask Name: getitem, 27 expressions</div>"
      ],
      "text/plain": [
       "Dask DataFrame Structure:\n",
       "               pickup_latitude pickup_longitude dropoff_latitude dropoff_longitude\n",
       "npartitions=82                                                                    \n",
       "                       float64          float64          float64           float64\n",
       "                           ...              ...              ...               ...\n",
       "...                        ...              ...              ...               ...\n",
       "                           ...              ...              ...               ...\n",
       "                           ...              ...              ...               ...\n",
       "Dask Name: getitem, 27 expressions\n",
       "Expr=(Loc(frame=Loc(frame=(Concat(frames=[ArrowStringConversion(frame=FromMapProjectable(0f3c060)), ArrowStringConversion(frame=FromMapProjectable(e6f9fbe)), ArrowStringConversion(frame=FromMapProjectable(7a2bfea))], ))[['trip_distance', 'pickup_longitude', 'pickup_latitude', 'dropoff_longitude', 'dropoff_latitude', 'fare_amount']], iindexer=Between(frame=(Concat(frames=[ArrowStringConversion(frame=FromMapProjectable(0f3c060)), ArrowStringConversion(frame=FromMapProjectable(e6f9fbe)), ArrowStringConversion(frame=FromMapProjectable(7a2bfea))], ))['pickup_latitude'], left=40.6, right=40.85) & Between(frame=(Concat(frames=[ArrowStringConversion(frame=FromMapProjectable(0f3c060)), ArrowStringConversion(frame=FromMapProjectable(e6f9fbe)), ArrowStringConversion(frame=FromMapProjectable(7a2bfea))], ))['pickup_longitude'], left=-74.05, right=-73.7) & Between(frame=(Concat(frames=[ArrowStringConversion(frame=FromMapProjectable(0f3c060)), ArrowStringConversion(frame=FromMapProjectable(e6f9fbe)), ArrowStringConversion(frame=FromMapProjectable(7a2bfea))], ))['dropoff_latitude'], left=40.6, right=40.85) & Between(frame=(Concat(frames=[ArrowStringConversion(frame=FromMapProjectable(0f3c060)), ArrowStringConversion(frame=FromMapProjectable(e6f9fbe)), ArrowStringConversion(frame=FromMapProjectable(7a2bfea))], ))['dropoff_longitude'], left=-74.05, right=-73.7)), iindexer=Between(frame=(Loc(frame=(Concat(frames=[ArrowStringConversion(frame=FromMapProjectable(0f3c060)), ArrowStringConversion(frame=FromMapProjectable(e6f9fbe)), ArrowStringConversion(frame=FromMapProjectable(7a2bfea))], ))[['trip_distance', 'pickup_longitude', 'pickup_latitude', 'dropoff_longitude', 'dropoff_latitude', 'fare_amount']], iindexer=Between(frame=(Concat(frames=[ArrowStringConversion(frame=FromMapProjectable(0f3c060)), ArrowStringConversion(frame=FromMapProjectable(e6f9fbe)), ArrowStringConversion(frame=FromMapProjectable(7a2bfea))], ))['pickup_latitude'], left=40.6, right=40.85) & Between(frame=(Concat(frames=[ArrowStringConversion(frame=FromMapProjectable(0f3c060)), ArrowStringConversion(frame=FromMapProjectable(e6f9fbe)), ArrowStringConversion(frame=FromMapProjectable(7a2bfea))], ))['pickup_longitude'], left=-74.05, right=-73.7) & Between(frame=(Concat(frames=[ArrowStringConversion(frame=FromMapProjectable(0f3c060)), ArrowStringConversion(frame=FromMapProjectable(e6f9fbe)), ArrowStringConversion(frame=FromMapProjectable(7a2bfea))], ))['dropoff_latitude'], left=40.6, right=40.85) & Between(frame=(Concat(frames=[ArrowStringConversion(frame=FromMapProjectable(0f3c060)), ArrowStringConversion(frame=FromMapProjectable(e6f9fbe)), ArrowStringConversion(frame=FromMapProjectable(7a2bfea))], ))['dropoff_longitude'], left=-74.05, right=-73.7)))['fare_amount'], left=0.5, right=81.0) & Between(frame=(Loc(frame=(Concat(frames=[ArrowStringConversion(frame=FromMapProjectable(0f3c060)), ArrowStringConversion(frame=FromMapProjectable(e6f9fbe)), ArrowStringConversion(frame=FromMapProjectable(7a2bfea))], ))[['trip_distance', 'pickup_longitude', 'pickup_latitude', 'dropoff_longitude', 'dropoff_latitude', 'fare_amount']], iindexer=Between(frame=(Concat(frames=[ArrowStringConversion(frame=FromMapProjectable(0f3c060)), ArrowStringConversion(frame=FromMapProjectable(e6f9fbe)), ArrowStringConversion(frame=FromMapProjectable(7a2bfea))], ))['pickup_latitude'], left=40.6, right=40.85) & Between(frame=(Concat(frames=[ArrowStringConversion(frame=FromMapProjectable(0f3c060)), ArrowStringConversion(frame=FromMapProjectable(e6f9fbe)), ArrowStringConversion(frame=FromMapProjectable(7a2bfea))], ))['pickup_longitude'], left=-74.05, right=-73.7) & Between(frame=(Concat(frames=[ArrowStringConversion(frame=FromMapProjectable(0f3c060)), ArrowStringConversion(frame=FromMapProjectable(e6f9fbe)), ArrowStringConversion(frame=FromMapProjectable(7a2bfea))], ))['dropoff_latitude'], left=40.6, right=40.85) & Between(frame=(Concat(frames=[ArrowStringConversion(frame=FromMapProjectable(0f3c060)), ArrowStringConversion(frame=FromMapProjectable(e6f9fbe)), ArrowStringConversion(frame=FromMapProjectable(7a2bfea))], ))['dropoff_longitude'], left=-74.05, right=-73.7)))['trip_distance'], left=0.25, right=24.43)))[['pickup_latitude', 'pickup_longitude', 'dropoff_latitude', 'dropoff_longitude']]"
      ]
     },
     "execution_count": 17,
     "metadata": {},
     "output_type": "execute_result"
    }
   ],
   "source": [
    "# make a subset of location based columns\n",
    "\n",
    "location_subset = df_final[['pickup_latitude','pickup_longitude',\n",
    "                           'dropoff_latitude','dropoff_longitude']]\n",
    "\n",
    "location_subset"
   ]
  },
  {
   "cell_type": "code",
   "execution_count": 18,
   "id": "ae43bde6-20ee-4054-9092-ccaf8c6e5a5d",
   "metadata": {},
   "outputs": [
    {
     "data": {
      "image/png": "[encoded data removed]",
      "text/plain": [
       "<Figure size 1200x500 with 4 Axes>"
      ]
     },
     "metadata": {},
     "output_type": "display_data"
    }
   ],
   "source": [
    "# boxplots for location based columns\n",
    "\n",
    "import matplotlib.pyplot as plt\n",
    "import seaborn as sns\n",
    "\n",
    "# Create a 2x2 grid of subplots\n",
    "fig, axes = plt.subplots(nrows=2, ncols=2, figsize=(12, 5))\n",
    "\n",
    "# Flatten the 2D axes array into 1D for easy iteration\n",
    "axes = axes.flatten()\n",
    "\n",
    "# Loop through the first 4 columns of location_subset\n",
    "for i in range(4):\n",
    "    sns.boxplot(y=location_subset.iloc[:, i].compute(), ax=axes[i], whis=3)\n",
    "    axes[i].set_title(f\"Boxplot of Column {i+1}\")\n",
    "\n",
    "plt.tight_layout()\n",
    "plt.show()\n"
   ]
  },
  {
   "cell_type": "code",
   "execution_count": 19,
   "id": "b3281c50-71f4-4de0-8163-9437d189a16c",
   "metadata": {},
   "outputs": [
    {
     "data": {
      "text/plain": [
       "<Axes: ylabel='trip_distance'>"
      ]
     },
     "execution_count": 19,
     "metadata": {},
     "output_type": "execute_result"
    },
    {
     "data": {
      "image/png": "[encoded data removed]",
      "text/plain": [
       "<Figure size 640x480 with 1 Axes>"
      ]
     },
     "metadata": {},
     "output_type": "display_data"
    }
   ],
   "source": [
    "# trip distance\n",
    "\n",
    "sns.boxplot(df_final.loc[:,\"trip_distance\"].compute(),whis=3)"
   ]
  },
  {
   "cell_type": "code",
   "execution_count": 21,
   "id": "5a80aad9-416c-47ce-a98c-bb708b297bc6",
   "metadata": {},
   "outputs": [
    {
     "data": {
      "text/plain": [
       "<Axes: ylabel='fare_amount'>"
      ]
     },
     "execution_count": 21,
     "metadata": {},
     "output_type": "execute_result"
    },
    {
     "data": {
      "image/png": "[encoded data removed]",
      "text/plain": [
       "<Figure size 640x480 with 1 Axes>"
      ]
     },
     "metadata": {},
     "output_type": "display_data"
    }
   ],
   "source": [
    "#fare amount\n",
    "\n",
    "sns.boxplot(df_final.loc[:,\"fare_amount\"].compute(),whis=3)\n"
   ]
  },
  {
   "cell_type": "code",
   "execution_count": 22,
   "id": "85b9dac0-f018-4d2e-8f98-8dbbd2d0a511",
   "metadata": {},
   "outputs": [
    {
     "name": "stdout",
     "output_type": "stream",
     "text": [
      "shape of the dataset : (33234199, 2)\n"
     ]
    }
   ],
   "source": [
    "# from the data set\n",
    "\n",
    "pickup_coord_dataset = df_final.loc[:,['pickup_latitude','pickup_longitude']].compute()\n",
    "\n",
    "print(\"shape of the dataset :\",pickup_coord_dataset.shape)"
   ]
  },
  {
   "cell_type": "code",
   "execution_count": 23,
   "id": "21c27fad-a5c8-4ecc-a4e4-dacd8661478a",
   "metadata": {},
   "outputs": [
    {
     "data": {
      "text/html": [
       "<div>\n",
       "<style scoped>\n",
       "    .dataframe tbody tr th:only-of-type {\n",
       "        vertical-align: middle;\n",
       "    }\n",
       "\n",
       "    .dataframe tbody tr th {\n",
       "        vertical-align: top;\n",
       "    }\n",
       "\n",
       "    .dataframe thead th {\n",
       "        text-align: right;\n",
       "    }\n",
       "</style>\n",
       "<table border=\"1\" class=\"dataframe\">\n",
       "  <thead>\n",
       "    <tr style=\"text-align: right;\">\n",
       "      <th></th>\n",
       "      <th>pickup_latitude</th>\n",
       "      <th>pickup_longitude</th>\n",
       "    </tr>\n",
       "  </thead>\n",
       "  <tbody>\n",
       "    <tr>\n",
       "      <th>0</th>\n",
       "      <td>40.734695</td>\n",
       "      <td>-73.990372</td>\n",
       "    </tr>\n",
       "    <tr>\n",
       "      <th>1</th>\n",
       "      <td>40.729912</td>\n",
       "      <td>-73.980782</td>\n",
       "    </tr>\n",
       "    <tr>\n",
       "      <th>2</th>\n",
       "      <td>40.679565</td>\n",
       "      <td>-73.984550</td>\n",
       "    </tr>\n",
       "    <tr>\n",
       "      <th>3</th>\n",
       "      <td>40.718990</td>\n",
       "      <td>-73.993469</td>\n",
       "    </tr>\n",
       "    <tr>\n",
       "      <th>4</th>\n",
       "      <td>40.781330</td>\n",
       "      <td>-73.960625</td>\n",
       "    </tr>\n",
       "    <tr>\n",
       "      <th>...</th>\n",
       "      <td>...</td>\n",
       "      <td>...</td>\n",
       "    </tr>\n",
       "    <tr>\n",
       "      <th>420269</th>\n",
       "      <td>40.644451</td>\n",
       "      <td>-73.790565</td>\n",
       "    </tr>\n",
       "    <tr>\n",
       "      <th>420270</th>\n",
       "      <td>40.641483</td>\n",
       "      <td>-73.788055</td>\n",
       "    </tr>\n",
       "    <tr>\n",
       "      <th>420271</th>\n",
       "      <td>40.646736</td>\n",
       "      <td>-73.789154</td>\n",
       "    </tr>\n",
       "    <tr>\n",
       "      <th>420273</th>\n",
       "      <td>40.774471</td>\n",
       "      <td>-73.977356</td>\n",
       "    </tr>\n",
       "    <tr>\n",
       "      <th>420276</th>\n",
       "      <td>40.645096</td>\n",
       "      <td>-73.798485</td>\n",
       "    </tr>\n",
       "  </tbody>\n",
       "</table>\n",
       "<p>33234199 rows × 2 columns</p>\n",
       "</div>"
      ],
      "text/plain": [
       "        pickup_latitude  pickup_longitude\n",
       "0             40.734695        -73.990372\n",
       "1             40.729912        -73.980782\n",
       "2             40.679565        -73.984550\n",
       "3             40.718990        -73.993469\n",
       "4             40.781330        -73.960625\n",
       "...                 ...               ...\n",
       "420269        40.644451        -73.790565\n",
       "420270        40.641483        -73.788055\n",
       "420271        40.646736        -73.789154\n",
       "420273        40.774471        -73.977356\n",
       "420276        40.645096        -73.798485\n",
       "\n",
       "[33234199 rows x 2 columns]"
      ]
     },
     "execution_count": 23,
     "metadata": {},
     "output_type": "execute_result"
    }
   ],
   "source": [
    "pickup_coord_dataset"
   ]
  },
  {
   "cell_type": "code",
   "execution_count": 25,
   "id": "fe355242-6918-4def-b3f7-b722d73c5674",
   "metadata": {},
   "outputs": [],
   "source": [
    "# save path\n",
    "save_path = \"C:\\\\Users\\\\debas\\\\Uber demand Prediction/Data/location_data.csv\""
   ]
  },
  {
   "cell_type": "code",
   "execution_count": 26,
   "id": "b9aea5d9-a76d-4e2d-9e86-f7ce45ec7225",
   "metadata": {},
   "outputs": [],
   "source": [
    "# save the data set\n",
    "pickup_coord_dataset.to_csv(save_path,index = False)"
   ]
  },
  {
   "cell_type": "code",
   "execution_count": null,
   "id": "1fe0526e-7cd3-4de3-af65-366eafc7fef1",
   "metadata": {},
   "outputs": [],
   "source": []
  },
  {
   "cell_type": "code",
   "execution_count": null,
   "id": "816d32f4-ce9e-4180-bce9-67244a57f1db",
   "metadata": {},
   "outputs": [],
   "source": []
  }
 ],
 "metadata": {
  "kernelspec": {
   "display_name": "Python 3 (ipykernel)",
   "language": "python",
   "name": "python3"
  },
  "language_info": {
   "codemirror_mode": {
    "name": "ipython",
    "version": 3
   },
   "file_extension": ".py",
   "mimetype": "text/x-python",
   "name": "python",
   "nbconvert_exporter": "python",
   "pygments_lexer": "ipython3",
   "version": "3.11.2"
  }
 },
 "nbformat": 4,
 "nbformat_minor": 5
}
